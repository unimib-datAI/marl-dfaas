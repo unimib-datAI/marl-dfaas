{
 "cells": [
  {
   "cell_type": "markdown",
   "id": "0",
   "metadata": {},
   "source": [
    "# Real Traces Plotting/Analysis"
   ]
  },
  {
   "cell_type": "markdown",
   "id": "1",
   "metadata": {},
   "source": [
    "Traces got from [GitHub](https://github.com/Azure/AzurePublicDataset/blob/master/AzureFunctionsDataset2019.md). See `dataset/REDAME.md`."
   ]
  },
  {
   "cell_type": "code",
   "execution_count": null,
   "id": "2",
   "metadata": {},
   "outputs": [],
   "source": [
    "# Common imports.\n",
    "from pathlib import Path\n",
    "\n",
    "%matplotlib ipympl\n",
    "import base\n",
    "\n",
    "import numpy as np\n",
    "import pandas as pd\n",
    "import matplotlib.pyplot as plt\n",
    "import matplotlib.ticker as ticker"
   ]
  },
  {
   "cell_type": "markdown",
   "id": "3",
   "metadata": {},
   "source": [
    "Global options of the notebook:\n",
    "\n",
    "* `data_file`: the full path of the data (a CSV file)"
   ]
  },
  {
   "cell_type": "code",
   "execution_count": null,
   "id": "4",
   "metadata": {},
   "outputs": [],
   "source": [
    "data_file = Path(\n",
    "    \"/home/emanuele/marl-dfaas/dataset/data/invocations_per_function_md.anon.d01.csv\"\n",
    ")"
   ]
  },
  {
   "cell_type": "markdown",
   "id": "5",
   "metadata": {},
   "source": [
    "## Structure of a invocation file"
   ]
  },
  {
   "cell_type": "code",
   "execution_count": null,
   "id": "6",
   "metadata": {},
   "outputs": [],
   "source": [
    "invocations = pd.read_csv(data_file)  # Read the data, takes time."
   ]
  },
  {
   "cell_type": "code",
   "execution_count": null,
   "id": "7",
   "metadata": {},
   "outputs": [],
   "source": [
    "print(\"Shape (rows, columns) =\", invocations.shape)\n",
    "print(\"First 10 columns =\", list(invocations.columns[:10]))\n",
    "print(\"Last 10 columns =\", list(invocations.columns[-10:]))"
   ]
  },
  {
   "cell_type": "markdown",
   "id": "8",
   "metadata": {},
   "source": [
    "The first three columns are hashes, consistent between all files:\n",
    "\n",
    "* `HashOwner`: owner of the application. On owner can have multiple applications.\n",
    "* `HashApp`: application. An application can have only one owner but many functions. Note two identical application (and functions) have two different hashes since they belong to different owners.\n",
    "* `HashFunction`: the single function.\n",
    "* `Trigger`: what causes the function execution.\n",
    "\n",
    "The remaining columns are how many invocations there were for each minute in a single 24-hours day."
   ]
  },
  {
   "cell_type": "markdown",
   "id": "9",
   "metadata": {},
   "source": [
    "## Plot of a generic trace"
   ]
  },
  {
   "cell_type": "markdown",
   "id": "10",
   "metadata": {},
   "source": [
    "Plots a single trace from the given data file. The trace can be selected by its hash (full or partial) or by the index inside the data file."
   ]
  },
  {
   "cell_type": "code",
   "execution_count": null,
   "id": "11",
   "metadata": {},
   "outputs": [],
   "source": [
    "function_hash = \"115ca7a2b5bc290052c3da74cd0347d19c3c67b7d5aa66e9a975e427f25fc7ed\"\n",
    "function_index = 101\n",
    "select_by_hash = False\n",
    "\n",
    "if select_by_hash:\n",
    "    trace = invocations[invocations[\"HashFunction\"].str.contains(function_hash)]\n",
    "else:\n",
    "    trace = invocations.iloc[[function_index]]\n",
    "\n",
    "assert trace.shape[0] == 1, \"Trace must be unique\"\n",
    "\n",
    "# Extract the first columns and the invocations columns (\"1\" -> \"1440\")\n",
    "owner, app, func, trigger = trace.iloc[0][:\"Trigger\"]\n",
    "invocs = trace.iloc[0][\"1\":]"
   ]
  },
  {
   "cell_type": "code",
   "execution_count": null,
   "id": "12",
   "metadata": {},
   "outputs": [],
   "source": [
    "print(\"Owner =\", owner)\n",
    "print(\"Application =\", app)\n",
    "print(\"Function =\", func)\n",
    "print(\"Trigger =\", trigger)"
   ]
  },
  {
   "cell_type": "code",
   "execution_count": null,
   "id": "13",
   "metadata": {},
   "outputs": [],
   "source": [
    "fig = plt.figure(layout=\"constrained\")\n",
    "fig.canvas.header_visible = False\n",
    "ax = fig.subplots()\n",
    "\n",
    "minutes_idx = np.arange(1, len(invocs) + 1)\n",
    "ax.bar(minutes_idx, invocs)\n",
    "\n",
    "ax.set_title(f\"Function invocations (function = {func[:10]})\")\n",
    "ax.set_ylabel(\"Invocations\")\n",
    "ax.set_xlabel(\"Minute\")\n",
    "\n",
    "ax.grid(axis=\"both\")\n",
    "ax.set_axisbelow(True)  # By default the axis is over the content."
   ]
  },
  {
   "cell_type": "markdown",
   "id": "14",
   "metadata": {},
   "source": [
    "## Trigger distribution"
   ]
  },
  {
   "cell_type": "markdown",
   "id": "15",
   "metadata": {},
   "source": [
    "There are many triggers supported by Azure Functions, but in the dataset they are grouped into the following groups:\n",
    "\n",
    "* `http` (HTTP)\n",
    "* `timer` (Timer)\n",
    "* `event` (Event Hub, Event Grid)\n",
    "* `queue` (Service Bus, Queue Storage, RabbitMQ, Kafka, MQTT)\n",
    "* `storage` (Blob Storage, CosmosDB, Redis, File)\n",
    "* `orchestration` (Durable Functions: activities, orcherstration)\n",
    "* `others` (all other triggers)\n",
    "\n",
    "Note that I'm only interested in functions triggered by `http` requests. The analysis of these is in the next section."
   ]
  },
  {
   "cell_type": "code",
   "execution_count": null,
   "id": "16",
   "metadata": {},
   "outputs": [],
   "source": [
    "# Calculate triggers count.\n",
    "trigger_count = invocations.loc[:, \"Trigger\"].value_counts()\n",
    "print(trigger_count)"
   ]
  },
  {
   "cell_type": "code",
   "execution_count": null,
   "id": "17",
   "metadata": {},
   "outputs": [],
   "source": [
    "# Plot data.\n",
    "fig = plt.figure(layout=\"constrained\")\n",
    "fig.canvas.header_visible = False\n",
    "ax = fig.subplots()\n",
    "\n",
    "ax.bar(trigger_count.index, trigger_count)\n",
    "\n",
    "ax.set_title(f\"Trigger distribution\")\n",
    "ax.set_ylabel(\"Functions\")\n",
    "ax.set_xlabel(\"Trigger\")\n",
    "\n",
    "ax.grid(axis=\"both\")\n",
    "ax.set_axisbelow(True)  # By default the axis is over the content."
   ]
  },
  {
   "cell_type": "markdown",
   "id": "18",
   "metadata": {},
   "source": [
    "## Sum, mean and std of invocations"
   ]
  },
  {
   "cell_type": "code",
   "execution_count": null,
   "id": "19",
   "metadata": {},
   "outputs": [],
   "source": [
    "http = invocations[invocations[\"Trigger\"] == \"http\"]\n",
    "\n",
    "header = http.loc[:, :\"Trigger\"]  # Extract the first four columns (the \"header\").\n",
    "values = http.loc[:, \"1\":].agg(\n",
    "    [\"sum\", \"mean\", \"std\"], axis=1\n",
    ")  # Calculate some stats for the invocations.\n",
    "\n",
    "stats = header.join(values)  # Rebuild the dataframe."
   ]
  },
  {
   "cell_type": "code",
   "execution_count": null,
   "id": "20",
   "metadata": {},
   "outputs": [],
   "source": [
    "for metric in [\"sum\", \"mean\", \"std\"]:\n",
    "    fig = plt.figure(layout=\"constrained\")\n",
    "    fig.canvas.header_visible = False\n",
    "    ax = fig.subplots()\n",
    "\n",
    "    func_idx = np.arange(http.shape[0])\n",
    "\n",
    "    # Required since there is too much variation between functions.\n",
    "    ax.set_yscale(\"log\")\n",
    "\n",
    "    ax.bar(func_idx, stats[metric])\n",
    "\n",
    "    ax.set_title(f\"{metric.capitalize()} of invocations per http function\")\n",
    "    ax.set_ylabel(\"Total invocations\")\n",
    "    ax.set_xlabel(\"Function index\")\n",
    "\n",
    "    ax.grid(axis=\"both\")\n",
    "    ax.set_axisbelow(True)  # By default the axis is over the content."
   ]
  }
 ],
 "metadata": {
  "kernelspec": {
   "display_name": "Python 3 (ipykernel)",
   "language": "python",
   "name": "python3"
  },
  "language_info": {
   "codemirror_mode": {
    "name": "ipython",
    "version": 3
   },
   "file_extension": ".py",
   "mimetype": "text/x-python",
   "name": "python",
   "nbconvert_exporter": "python",
   "pygments_lexer": "ipython3",
   "version": "3.12.3"
  }
 },
 "nbformat": 4,
 "nbformat_minor": 5
}
