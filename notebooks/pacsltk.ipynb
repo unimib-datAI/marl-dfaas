{
 "cells": [
  {
   "cell_type": "markdown",
   "id": "0",
   "metadata": {},
   "source": [
    "# PACSLTK (PACS Lambda ToolKit) exploration"
   ]
  },
  {
   "cell_type": "markdown",
   "id": "1",
   "metadata": {},
   "source": [
    "I use the Python PACSLTK (PACS Lambda ToolKit) module to simulate FaaS processing on a node.\n",
    "\n",
    "This is the source code: https://github.com/pacslab/serverless-performance-modeling"
   ]
  },
  {
   "cell_type": "code",
   "execution_count": null,
   "id": "2",
   "metadata": {},
   "outputs": [],
   "source": [
    "# Common imports.\n",
    "%matplotlib widget\n",
    "import base\n",
    "from pprint import pprint\n",
    "\n",
    "import matplotlib.pyplot as plt\n",
    "import numpy as np\n",
    "from tqdm.notebook import trange\n",
    "\n",
    "import perfmodel"
   ]
  },
  {
   "cell_type": "markdown",
   "id": "3",
   "metadata": {},
   "source": [
    "## Example execution"
   ]
  },
  {
   "cell_type": "code",
   "execution_count": null,
   "id": "4",
   "metadata": {},
   "outputs": [],
   "source": [
    "arrival_rate = 100\n",
    "warm_service_time = 2\n",
    "cold_service_time = 25\n",
    "idle_time_before_kill = 10 * 60\n",
    "\n",
    "print(\"arrival_rate:\", arrival_rate)\n",
    "print(\"warm_service_time:\", warm_service_time)\n",
    "print(\"cold_service_time:\", cold_service_time)\n",
    "print(\"idle_time_before_kill:\", idle_time_before_kill)\n",
    "\n",
    "props1, props2 = perfmodel.get_sls_warm_count_dist(\n",
    "    arrival_rate, warm_service_time, cold_service_time, idle_time_before_kill\n",
    ")\n",
    "perfmodel.print_props(props1)"
   ]
  },
  {
   "cell_type": "markdown",
   "id": "5",
   "metadata": {},
   "source": [
    "## Experiments"
   ]
  },
  {
   "cell_type": "code",
   "execution_count": null,
   "id": "6",
   "metadata": {},
   "outputs": [],
   "source": [
    "def print_experiment(arrival_rate=100, warm_service_time=2, cold_service_time=25, idle_time_before_kill=10 * 60):\n",
    "    print(\"Arguments:\")\n",
    "    print(f\"  arrival_rate: {arrival_rate} reqs/s\")\n",
    "    print(f\"  warm_service_time: {warm_service_time} s\")\n",
    "    print(f\"  cold_service_time: {cold_service_time} s\")\n",
    "    print(f\"  idle_time_before_kill: {idle_time_before_kill} s\")\n",
    "\n",
    "    props1, _ = perfmodel.get_sls_warm_count_dist(\n",
    "        arrival_rate, warm_service_time, cold_service_time, idle_time_before_kill\n",
    "    )\n",
    "\n",
    "    print(\"\\nResult:\")\n",
    "    for key in props1:\n",
    "        print(f\"  {key}: {props1[key]}\")\n",
    "\n",
    "\n",
    "def run_experiment(arrival_rate=100, warm_service_time=2, cold_service_time=25, idle_time_before_kill=10 * 60):\n",
    "    props1, _ = perfmodel.get_sls_warm_count_dist(\n",
    "        arrival_rate, warm_service_time, cold_service_time, idle_time_before_kill\n",
    "    )\n",
    "\n",
    "    return props1"
   ]
  },
  {
   "cell_type": "code",
   "execution_count": null,
   "id": "7",
   "metadata": {},
   "outputs": [],
   "source": [
    "print_experiment(100, 10, 25, 10 * 60)"
   ]
  },
  {
   "cell_type": "markdown",
   "id": "8",
   "metadata": {},
   "source": [
    "## Varying arrival rate"
   ]
  },
  {
   "cell_type": "code",
   "execution_count": null,
   "id": "9",
   "metadata": {},
   "outputs": [],
   "source": [
    "max_arrival_rate = 150\n",
    "\n",
    "rejection_prob = np.zeros(max_arrival_rate + 1)\n",
    "\n",
    "warm_service_time = 15\n",
    "cold_service_time = 30\n",
    "idle_time_before_kill = 10 * 60\n",
    "\n",
    "for arrival_rate in trange(max_arrival_rate + 1):\n",
    "    if arrival_rate == 0:\n",
    "        # Skip basic case.\n",
    "        continue\n",
    "\n",
    "    result = run_experiment(arrival_rate, warm_service_time, cold_service_time, idle_time_before_kill)\n",
    "    rejection_prob[arrival_rate] = result[\"rejection_prob\"]"
   ]
  },
  {
   "cell_type": "code",
   "execution_count": null,
   "id": "10",
   "metadata": {},
   "outputs": [],
   "source": [
    "def make_plot():\n",
    "    plt.close(fig=\"make_plot\")\n",
    "    fig = plt.figure(num=\"make_plot\", layout=\"constrained\")\n",
    "    fig.canvas.header_visible = False\n",
    "    ax = fig.subplots()\n",
    "\n",
    "    ax.plot(rejection_prob)\n",
    "\n",
    "    ax.set_ylabel(\"Rejection prob\")\n",
    "    ax.set_ylim(bottom=0, top=1.1)  # Is a probability\n",
    "\n",
    "    ax.set_xlabel(\"Arrival rate\")\n",
    "\n",
    "    ax.grid(axis=\"both\")\n",
    "    ax.set_axisbelow(True)  # By default the axis is over the content.\n",
    "\n",
    "\n",
    "make_plot()"
   ]
  }
 ],
 "metadata": {
  "kernelspec": {
   "display_name": "Python 3 (ipykernel)",
   "language": "python",
   "name": "python3"
  },
  "language_info": {
   "codemirror_mode": {
    "name": "ipython",
    "version": 3
   },
   "file_extension": ".py",
   "mimetype": "text/x-python",
   "name": "python",
   "nbconvert_exporter": "python",
   "pygments_lexer": "ipython3",
   "version": "3.12.3"
  }
 },
 "nbformat": 4,
 "nbformat_minor": 5
}
