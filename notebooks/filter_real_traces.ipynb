{
 "cells": [
  {
   "cell_type": "markdown",
   "id": "0",
   "metadata": {},
   "source": [
    "# Filter real traces"
   ]
  },
  {
   "cell_type": "markdown",
   "id": "1",
   "metadata": {},
   "source": [
    "The traces from `real_traces.ipynb` must be handled to be used in the DFaaS environment. This notebook shows the operations and the analysis of a single dataset file.\n",
    "\n",
    "The main operations are:\n",
    "\n",
    "1. Extract only the functions triggered by `http`.\n",
    "2. Reshape the functions by time and invocations.\n",
    "3. Select a subset of \"useful/informative\" functions."
   ]
  },
  {
   "cell_type": "code",
   "execution_count": null,
   "id": "2",
   "metadata": {},
   "outputs": [],
   "source": [
    "# Common imports.\n",
    "from pathlib import Path\n",
    "\n",
    "%matplotlib widget\n",
    "import base\n",
    "\n",
    "import numpy as np\n",
    "import pandas as pd\n",
    "import matplotlib.pyplot as plt\n",
    "import matplotlib.ticker as ticker\n",
    "import ipywidgets"
   ]
  },
  {
   "cell_type": "markdown",
   "id": "3",
   "metadata": {},
   "source": [
    "Global options of the notebook:\n",
    "\n",
    "* `data_file`: the full path of the data (a CSV file)"
   ]
  },
  {
   "cell_type": "code",
   "execution_count": null,
   "id": "4",
   "metadata": {},
   "outputs": [],
   "source": [
    "data_file = Path(\n",
    "    \"/home/emanuele/marl-dfaas/dataset/data/invocations_per_function_md.anon.d01.csv\"\n",
    ")  # The dataset from d01 to d14.\n",
    "\n",
    "invocations = pd.read_csv(data_file)  # Read the data, takes time."
   ]
  },
  {
   "cell_type": "markdown",
   "id": "5",
   "metadata": {},
   "source": [
    "## 1. Filter http functions"
   ]
  },
  {
   "cell_type": "code",
   "execution_count": null,
   "id": "6",
   "metadata": {},
   "outputs": [],
   "source": [
    "http = invocations[invocations[\"Trigger\"] == \"http\"].drop(columns=\"Trigger\")"
   ]
  },
  {
   "cell_type": "markdown",
   "id": "7",
   "metadata": {},
   "source": [
    "## 2. Reshape the functions"
   ]
  },
  {
   "cell_type": "code",
   "execution_count": null,
   "id": "8",
   "metadata": {},
   "outputs": [],
   "source": [
    "# Function to interactively display the invocations of a single function before (original) and after (scaled).\n",
    "# The function index is selected by the user.\n",
    "\n",
    "\n",
    "def plot_single_function(original, scaled):\n",
    "    fn_idx_widget = ipywidgets.BoundedIntText(\n",
    "        value=300, min=0, max=len(original), description=\"Function:\", disabled=False\n",
    "    )\n",
    "\n",
    "    # Do not display the plots immediately, otherwise they will be displayed outside the AppLayout widget.\n",
    "    with plt.ioff():\n",
    "        fig_orig = plt.figure(layout=\"constrained\")\n",
    "        fig_scaled = plt.figure(layout=\"constrained\")\n",
    "    fig_orig.canvas.header_visible = False\n",
    "    ax_orig = fig_orig.subplots()\n",
    "    fig_scaled.canvas.header_visible = False\n",
    "    ax_scaled = fig_scaled.subplots()\n",
    "\n",
    "    # Creates and displays the plots. Called after each update of the function index.\n",
    "    def make_plot(fn_idx):\n",
    "        for dataset in [\"original\", \"scaled\"]:\n",
    "            if dataset == \"original\":\n",
    "                fig, ax, traces = fig_orig, ax_orig, original\n",
    "            else:\n",
    "                fig, ax, traces = fig_scaled, ax_scaled, scaled\n",
    "\n",
    "            # The axis must be cleared to place the new bars.\n",
    "            ax.clear()\n",
    "\n",
    "            trace = traces[fn_idx]\n",
    "            minutes_idx = np.arange(1, len(trace) + 1)\n",
    "            ax.bar(minutes_idx, trace)\n",
    "\n",
    "            ax.set_title(\n",
    "                f\"Function invocations ({dataset}) (function index = {fn_idx})\"\n",
    "            )\n",
    "            ax.set_ylabel(\"Invocations\")\n",
    "            ax.set_xlabel(\"Minute\")\n",
    "\n",
    "            ax.grid(axis=\"both\")\n",
    "            ax.set_axisbelow(True)\n",
    "\n",
    "            fig.canvas.draw_idle()  # Must be draw_idle not draw with multiple figures.\n",
    "            fig.canvas.flush_events()\n",
    "\n",
    "    # Make the initial plot with the default value.\n",
    "    make_plot(fn_idx_widget.value)\n",
    "\n",
    "    # Link the input widget and the plotting function.\n",
    "    fn_idx_widget.observe(lambda change: make_plot(change.new), names=\"value\")\n",
    "\n",
    "    return ipywidgets.AppLayout(\n",
    "        header=fn_idx_widget,\n",
    "        # Put the two plots in vertical.\n",
    "        center=ipywidgets.VBox([fig_orig.canvas, fig_scaled.canvas]),\n",
    "        pane_heights=[0, 6, 0],\n",
    "    )"
   ]
  },
  {
   "cell_type": "markdown",
   "id": "9",
   "metadata": {},
   "source": [
    "### Reshape by time"
   ]
  },
  {
   "cell_type": "markdown",
   "id": "10",
   "metadata": {},
   "source": [
    "The original dataset has invocations per minute in 24 hours for each function (1440 columns). Instead, the DFaaS environment expects a window of 5 minutes in 24 hours (288 steps). This is because we want to have time to adjust the load balancing distribution.\n",
    "\n",
    "So every 5 steps in the original dataset are merged into one value."
   ]
  },
  {
   "cell_type": "code",
   "execution_count": null,
   "id": "11",
   "metadata": {},
   "outputs": [],
   "source": [
    "invocs = http.loc[:, \"1\":].to_numpy()  # Get as numpy array.\n",
    "rows, columns = invocs.shape\n",
    "groups = columns // 5\n",
    "columns = 5\n",
    "invocs_scaled = invocs.reshape(rows, groups, columns).sum(axis=2)"
   ]
  },
  {
   "cell_type": "markdown",
   "id": "12",
   "metadata": {},
   "source": [
    "#### Plot of a single function"
   ]
  },
  {
   "cell_type": "code",
   "execution_count": null,
   "id": "13",
   "metadata": {},
   "outputs": [],
   "source": [
    "plot_single_function(invocs, invocs_scaled)"
   ]
  },
  {
   "cell_type": "markdown",
   "id": "14",
   "metadata": {},
   "source": [
    "### Reshape by invocations"
   ]
  },
  {
   "cell_type": "code",
   "execution_count": null,
   "id": "15",
   "metadata": {},
   "outputs": [],
   "source": [
    "def interp(array):\n",
    "    src_xp = (array.min(), array.max())\n",
    "    dst_fp = (0, 150)  # TODO: Get dinamically.\n",
    "    if (diff := np.diff(src_xp)) < 0:\n",
    "        assert False, f\"Values can't be negative: {src_xp = }\"\n",
    "    elif diff == 0:\n",
    "        # This array is a flat line.\n",
    "        array.fill(dst_fp[1])\n",
    "        return array\n",
    "    return np.interp(array, src_xp, dst_fp).astype(np.int32)\n",
    "\n",
    "\n",
    "invocs_final = np.apply_along_axis(interp, axis=1, arr=invocs_scaled)"
   ]
  },
  {
   "cell_type": "markdown",
   "id": "16",
   "metadata": {},
   "source": [
    "#### Plot of a single function"
   ]
  },
  {
   "cell_type": "code",
   "execution_count": null,
   "id": "17",
   "metadata": {},
   "outputs": [],
   "source": [
    "plot_single_function(invocs_scaled, invocs_final)"
   ]
  },
  {
   "cell_type": "markdown",
   "id": "18",
   "metadata": {},
   "source": [
    "#### Plot of two functions"
   ]
  },
  {
   "cell_type": "markdown",
   "id": "19",
   "metadata": {},
   "source": [
    "The method I used to reshape the number of calls has a major problem: since I use a linear interpolation, if there is an outlier in the calls, all other values are small compared to another function without a large outlier."
   ]
  },
  {
   "cell_type": "code",
   "execution_count": null,
   "id": "20",
   "metadata": {},
   "outputs": [],
   "source": [
    "def plot_two_functions(original, scaled):\n",
    "    fn_a_idx_widget = ipywidgets.BoundedIntText(\n",
    "        value=300,\n",
    "        min=0,\n",
    "        max=len(original),\n",
    "        description=\"Function A:\",\n",
    "        disabled=False,\n",
    "        style={\"description_width\": \"initial\"},\n",
    "    )\n",
    "    fn_b_idx_widget = ipywidgets.BoundedIntText(\n",
    "        value=150,\n",
    "        min=0,\n",
    "        max=len(original),\n",
    "        description=\"Function B:\",\n",
    "        disabled=False,\n",
    "        style={\"description_width\": \"initial\"},\n",
    "    )\n",
    "    show_fn_a_widget = ipywidgets.Checkbox(\n",
    "        value=True, description=\"Show A\", disabled=False, indent=False\n",
    "    )\n",
    "    show_fn_b_widget = ipywidgets.Checkbox(\n",
    "        value=True, description=\"Show B\", disabled=False, indent=False\n",
    "    )\n",
    "\n",
    "    # Do not display the plots immediately, otherwise they will be displayed outside the AppLayout widget.\n",
    "    with plt.ioff():\n",
    "        fig_orig = plt.figure(layout=\"constrained\")\n",
    "        fig_scaled = plt.figure(layout=\"constrained\")\n",
    "    fig_orig.canvas.header_visible = False\n",
    "    ax_orig = fig_orig.subplots()\n",
    "    fig_scaled.canvas.header_visible = False\n",
    "    ax_scaled = fig_scaled.subplots()\n",
    "\n",
    "    # Creates and displays the plots. Called after each update of the function index.\n",
    "    def make_plot():\n",
    "        fn_a_idx, fn_b_idx = fn_a_idx_widget.value, fn_b_idx_widget.value\n",
    "        show_a, show_b = show_fn_a_widget.value, show_fn_b_widget.value\n",
    "        for dataset in [\"original\", \"scaled\"]:\n",
    "            if dataset == \"original\":\n",
    "                fig, ax, traces = fig_orig, ax_orig, original\n",
    "            else:\n",
    "                fig, ax, traces = fig_scaled, ax_scaled, scaled\n",
    "\n",
    "            # The axis must be cleared to place the new bars.\n",
    "            ax.clear()\n",
    "\n",
    "            if show_a:\n",
    "                trace_a = traces[fn_a_idx]\n",
    "                minutes_idx = np.arange(1, len(trace_a) + 1)\n",
    "                ax.bar(minutes_idx, trace_a, color=\"r\", label=\"A\")\n",
    "            if show_b:\n",
    "                trace_b = traces[fn_b_idx]\n",
    "                minutes_idx = np.arange(1, len(trace_b) + 1)\n",
    "                ax.bar(minutes_idx, trace_b, color=\"b\", label=\"B\")\n",
    "\n",
    "            ax.set_title(\n",
    "                f\"Function invocations ({dataset}) (function index A = {fn_a_idx}, function index B = {fn_b_idx})\"\n",
    "            )\n",
    "            ax.set_ylabel(\"Invocations\")\n",
    "            ax.set_xlabel(\"Minute\")\n",
    "\n",
    "            ax.legend()\n",
    "            ax.grid(axis=\"both\")\n",
    "            ax.set_axisbelow(True)\n",
    "\n",
    "            fig.canvas.draw_idle()  # Must be draw_idle not draw with multiple figures.\n",
    "            fig.canvas.flush_events()\n",
    "\n",
    "    # Make the initial plot with the default value.\n",
    "    make_plot()\n",
    "\n",
    "    # Link the input widgets and the plotting function.\n",
    "    fn_a_idx_widget.observe(lambda change: make_plot(), names=\"value\")\n",
    "    fn_b_idx_widget.observe(lambda change: make_plot(), names=\"value\")\n",
    "    show_fn_a_widget.observe(lambda change: make_plot(), names=\"value\")\n",
    "    show_fn_b_widget.observe(lambda change: make_plot(), names=\"value\")\n",
    "\n",
    "    grid = ipywidgets.TwoByTwoLayout(\n",
    "        top_left=fn_a_idx_widget,\n",
    "        top_right=show_fn_a_widget,\n",
    "        bottom_left=fn_b_idx_widget,\n",
    "        bottom_right=show_fn_b_widget,\n",
    "    )\n",
    "\n",
    "    return ipywidgets.AppLayout(\n",
    "        header=grid,\n",
    "        # Put the two plots in vertical.\n",
    "        center=ipywidgets.VBox([fig_orig.canvas, fig_scaled.canvas]),\n",
    "        pane_heights=[0.5, 6, 0],\n",
    "    )\n",
    "\n",
    "\n",
    "plot_two_functions(invocs_scaled, invocs_final)"
   ]
  }
 ],
 "metadata": {
  "kernelspec": {
   "display_name": "Python 3 (ipykernel)",
   "language": "python",
   "name": "python3"
  },
  "language_info": {
   "codemirror_mode": {
    "name": "ipython",
    "version": 3
   },
   "file_extension": ".py",
   "mimetype": "text/x-python",
   "name": "python",
   "nbconvert_exporter": "python",
   "pygments_lexer": "ipython3",
   "version": "3.12.3"
  }
 },
 "nbformat": 4,
 "nbformat_minor": 5
}
