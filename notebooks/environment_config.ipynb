{
 "cells": [
  {
   "cell_type": "markdown",
   "id": "0",
   "metadata": {},
   "source": [
    "# Environment config"
   ]
  },
  {
   "cell_type": "code",
   "execution_count": null,
   "id": "1",
   "metadata": {},
   "outputs": [],
   "source": [
    "# Common imports.\n",
    "%matplotlib inline\n",
    "import base\n",
    "from pprint import pprint\n",
    "\n",
    "import matplotlib.pyplot as plt\n",
    "import orjson\n",
    "import networkx as nx\n",
    "\n",
    "import dfaas_env"
   ]
  },
  {
   "cell_type": "markdown",
   "id": "2",
   "metadata": {},
   "source": [
    "## Configuration input"
   ]
  },
  {
   "cell_type": "code",
   "execution_count": null,
   "id": "3",
   "metadata": {},
   "outputs": [],
   "source": [
    "raw_config = \"\"\"\n",
    "{\"network\": [\"node_0 node_1 node_2\", \"node_3 node_2 node_0\", \"node_1 node_4\"]}\n",
    "\"\"\"\n",
    "\n",
    "# The current DFaaS environment from which we are extracting the configuration.\n",
    "env = None\n",
    "\n",
    "\n",
    "def create_env(raw_config):\n",
    "    global env\n",
    "    if len(raw_config) == 0:\n",
    "        env = dfaas_env.DFaaS()\n",
    "    else:\n",
    "        config = orjson.loads(raw_config)\n",
    "        env = dfaas_env.DFaaS(config=config)\n",
    "\n",
    "\n",
    "create_env(raw_config)"
   ]
  },
  {
   "cell_type": "markdown",
   "id": "4",
   "metadata": {},
   "source": [
    "## Show environment"
   ]
  },
  {
   "cell_type": "code",
   "execution_count": null,
   "id": "5",
   "metadata": {},
   "outputs": [],
   "source": [
    "print(f\"Agents = {env.agents}\")\n",
    "print()\n",
    "print(\"Action space\")\n",
    "pprint(dict(env.action_space))"
   ]
  },
  {
   "cell_type": "code",
   "execution_count": null,
   "id": "6",
   "metadata": {},
   "outputs": [],
   "source": [
    "# Set margins for the axes so that nodes aren't clipped\n",
    "nx.draw_networkx(env.network)\n",
    "ax = plt.gca()\n",
    "ax.margins(0.20)\n",
    "plt.axis(\"off\")\n",
    "plt.show()"
   ]
  }
 ],
 "metadata": {
  "kernelspec": {
   "display_name": "Python 3 (ipykernel)",
   "language": "python",
   "name": "python3"
  },
  "language_info": {
   "codemirror_mode": {
    "name": "ipython",
    "version": 3
   },
   "file_extension": ".py",
   "mimetype": "text/x-python",
   "name": "python",
   "nbconvert_exporter": "python",
   "pygments_lexer": "ipython3",
   "version": "3.12.3"
  }
 },
 "nbformat": 4,
 "nbformat_minor": 5
}
