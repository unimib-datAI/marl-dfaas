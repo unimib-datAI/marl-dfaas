{
 "cells": [
  {
   "cell_type": "markdown",
   "id": "0",
   "metadata": {},
   "source": [
    "# Train Summary Plots/Anaylisis"
   ]
  },
  {
   "cell_type": "code",
   "execution_count": null,
   "id": "1",
   "metadata": {},
   "outputs": [],
   "source": [
    "# Common imports.\n",
    "from pathlib import Path\n",
    "\n",
    "%matplotlib ipympl\n",
    "import base\n",
    "\n",
    "import numpy as np\n",
    "import matplotlib.pyplot as plt\n",
    "import matplotlib.ticker as ticker\n",
    "\n",
    "import dfaas_env\n",
    "import dfaas_utils"
   ]
  },
  {
   "cell_type": "markdown",
   "id": "2",
   "metadata": {
    "editable": true,
    "slideshow": {
     "slide_type": ""
    },
    "tags": []
   },
   "source": [
    "Global options for the notebook.\n",
    "\n",
    "* `exp_dir`: the full path for the experiment directory."
   ]
  },
  {
   "cell_type": "code",
   "execution_count": null,
   "id": "3",
   "metadata": {},
   "outputs": [],
   "source": [
    "# TODO: Make this configurable.\n",
    "exp_dir = Path(\"/home/emanuele/marl-dfaas/results/DFAAS-MA_2024-12-20_11-49-29_500_SYN\")"
   ]
  },
  {
   "cell_type": "markdown",
   "id": "4",
   "metadata": {},
   "source": [
    "## Reward"
   ]
  },
  {
   "cell_type": "code",
   "execution_count": null,
   "id": "5",
   "metadata": {
    "jupyter": {
     "source_hidden": true
    }
   },
   "outputs": [],
   "source": [
    "# Common functions for average reward data.\n",
    "\n",
    "\n",
    "def _average_reward_step(iter, agent):\n",
    "    \"\"\"Returns the average reward per step for the given iteration and agent.\"\"\"\n",
    "    episodes = iter[\"env_runners\"][\"episodes_this_iter\"]\n",
    "\n",
    "    tmp = np.empty(episodes, dtype=np.float32)\n",
    "    for epi_idx in range(episodes):\n",
    "        tmp[epi_idx] = np.average(\n",
    "            iter[\"env_runners\"][\"hist_stats\"][\"reward\"][epi_idx][agent]\n",
    "        )\n",
    "\n",
    "    return np.average(tmp)\n",
    "\n",
    "\n",
    "def _get_data(exp_dir):\n",
    "    data = {}\n",
    "\n",
    "    # Read data from experiment directory.\n",
    "    iters = dfaas_utils.parse_result_file(exp_dir / \"result.json\")\n",
    "    agents = base.get_env(exp_dir).agents\n",
    "\n",
    "    data[\"agents\"] = agents\n",
    "    data[\"iterations\"] = len(iters)\n",
    "    data[\"episodes\"] = iters[0][\"env_runners\"][\"episodes_this_iter\"]\n",
    "\n",
    "    reward_total_avg = {}  # Average total reward per episode.\n",
    "    reward_step_avg = {}  # Average reward per step.\n",
    "\n",
    "    reward_total_avg[\"all\"] = np.empty(data[\"iterations\"], dtype=np.float32)\n",
    "    for agent in data[\"agents\"]:\n",
    "        reward_total_avg[agent] = np.empty(data[\"iterations\"], dtype=np.float32)\n",
    "        reward_step_avg[agent] = np.empty(data[\"iterations\"], dtype=np.float32)\n",
    "\n",
    "    # For each iteration, get the average reward, since there are multiple\n",
    "    # episodes played in each iteration.\n",
    "    for iter in iters:\n",
    "        # Index starts from one in log files, but Python list from zero.\n",
    "        iter_idx = iter[\"training_iteration\"] - 1\n",
    "\n",
    "        reward_total_avg[\"all\"][iter_idx] = np.average(\n",
    "            iter[\"env_runners\"][\"hist_stats\"][\"episode_reward\"]\n",
    "        )\n",
    "\n",
    "        for agent in data[\"agents\"]:\n",
    "            reward_total_avg[agent][iter_idx] = np.average(\n",
    "                iter[\"env_runners\"][\"hist_stats\"][f\"policy_policy_{agent}_reward\"]\n",
    "            )\n",
    "            reward_step_avg[agent][iter_idx] = _average_reward_step(iter, agent)\n",
    "\n",
    "    data[\"reward_total_avg\"] = reward_total_avg\n",
    "    data[\"reward_step_avg\"] = reward_step_avg\n",
    "\n",
    "    return data"
   ]
  },
  {
   "cell_type": "markdown",
   "id": "6",
   "metadata": {},
   "source": [
    "Get `data` and `env` variables, used by subsequents plots."
   ]
  },
  {
   "cell_type": "code",
   "execution_count": null,
   "id": "7",
   "metadata": {
    "jupyter": {
     "source_hidden": true
    }
   },
   "outputs": [],
   "source": [
    "data = _get_data(exp_dir)\n",
    "env = base.get_env(exp_dir)"
   ]
  },
  {
   "cell_type": "markdown",
   "id": "8",
   "metadata": {},
   "source": [
    "### Average reward per episode (all agents)"
   ]
  },
  {
   "cell_type": "code",
   "execution_count": null,
   "id": "9",
   "metadata": {},
   "outputs": [],
   "source": [
    "fig = plt.figure()\n",
    "fig.canvas.header_visible = False\n",
    "ax = fig.subplots()\n",
    "\n",
    "# Limits for the y axis, both for total and single step.\n",
    "bottom, top = env.reward_range\n",
    "bottom_total = bottom * env.max_steps\n",
    "top_total = top * env.max_steps\n",
    "\n",
    "ax.plot(data[\"reward_total_avg\"][\"all\"])\n",
    "ax.set_ylim(bottom=bottom_total, top=top_total * len(data[\"agents\"]))\n",
    "ax.set_title(\"Average reward per episode (all agents)\")\n",
    "ax.yaxis.set_major_locator(ticker.MultipleLocator(50))\n",
    "\n",
    "ax.set_ylabel(\"Reward per episode\")\n",
    "\n",
    "ax.set_xlabel(\"Iteration\")\n",
    "ax.xaxis.set_major_locator(\n",
    "    ticker.MultipleLocator(50)\n",
    ")  # Show x-axis ticks every 50 iterations.\n",
    "\n",
    "ax.grid(axis=\"both\")\n",
    "ax.set_axisbelow(True)  # By default the axis is over the content."
   ]
  },
  {
   "cell_type": "markdown",
   "id": "10",
   "metadata": {},
   "source": [
    "### Average reward per episode (single agents)"
   ]
  },
  {
   "cell_type": "code",
   "execution_count": null,
   "id": "11",
   "metadata": {},
   "outputs": [],
   "source": [
    "for agent in data[\"agents\"]:\n",
    "    fig = plt.figure()\n",
    "    fig.canvas.header_visible = False\n",
    "    ax = fig.subplots()\n",
    "    \n",
    "    # Limits for the y axis, both for total and single step.\n",
    "    bottom, top = env.reward_range\n",
    "    bottom_total = bottom * env.max_steps\n",
    "    top_total = top * env.max_steps\n",
    "    \n",
    "    ax.plot(data[\"reward_total_avg\"][agent])\n",
    "    ax.set_ylim(bottom=bottom_total, top=top_total)\n",
    "    ax.set_title(f\"Average reward per episode ({agent = })\")\n",
    "    ax.yaxis.set_major_locator(ticker.MultipleLocator(50))\n",
    "    \n",
    "    ax.set_ylabel(\"Reward per episode\")\n",
    "    \n",
    "    ax.set_xlabel(\"Iteration\")\n",
    "    ax.xaxis.set_major_locator(\n",
    "        ticker.MultipleLocator(50)\n",
    "    )  # Show x-axis ticks every 50 iterations.\n",
    "    \n",
    "    ax.grid(axis=\"both\")\n",
    "    ax.set_axisbelow(True)  # By default the axis is over the content."
   ]
  }
 ],
 "metadata": {
  "kernelspec": {
   "display_name": "Python 3 (ipykernel)",
   "language": "python",
   "name": "python3"
  },
  "language_info": {
   "codemirror_mode": {
    "name": "ipython",
    "version": 3
   },
   "file_extension": ".py",
   "mimetype": "text/x-python",
   "name": "python",
   "nbconvert_exporter": "python",
   "pygments_lexer": "ipython3",
   "version": "3.12.3"
  }
 },
 "nbformat": 4,
 "nbformat_minor": 5
}
