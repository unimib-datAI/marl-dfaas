{
 "cells": [
  {
   "cell_type": "markdown",
   "id": "0",
   "metadata": {},
   "source": [
    "# Train Summary Plots/Anaylisis"
   ]
  },
  {
   "cell_type": "code",
   "execution_count": null,
   "id": "1",
   "metadata": {},
   "outputs": [],
   "source": [
    "# Common imports.\n",
    "from pathlib import Path\n",
    "\n",
    "%matplotlib widget\n",
    "import base\n",
    "\n",
    "import numpy as np\n",
    "import matplotlib.pyplot as plt\n",
    "import matplotlib.ticker as ticker\n",
    "import ipywidgets\n",
    "\n",
    "import dfaas_env\n",
    "import dfaas_utils"
   ]
  },
  {
   "cell_type": "markdown",
   "id": "2",
   "metadata": {},
   "source": [
    "Select one or more experiments to view.\n",
    "\n",
    "**WARNING**: If multiple experiments are selected, they must share the same number of training iterations!"
   ]
  },
  {
   "cell_type": "code",
   "execution_count": null,
   "id": "3",
   "metadata": {},
   "outputs": [],
   "source": [
    "# Get the list of current experiments to be selected by the user.\n",
    "exp_prefix = Path(\"/home/emanuele/marl-dfaas/results\")\n",
    "exps = []\n",
    "for exp in exp_prefix.iterdir():\n",
    "    if exp.name.startswith(\"DFAAS\"):  # A single experiment.\n",
    "        exps.append((exp.name, exp))\n",
    "        continue\n",
    "\n",
    "    # The experiment is a directory with sub-experiments, add\n",
    "    # each experiment individually.\n",
    "    for sub_exp in exp.iterdir():\n",
    "        exps.append((f\"{exp.name}/{sub_exp.name}\", sub_exp))\n",
    "exps = sorted(exps, reverse=True)\n",
    "\n",
    "# Show the name as the portion of the path after \"results\",\n",
    "# but anyway the values are full Path objects.\n",
    "exp_select = ipywidgets.SelectMultiple(\n",
    "    options=exps,\n",
    "    index=[0],\n",
    "    description=\"Experiment(s):\",\n",
    "    style={\"description_width\": \"initial\"},\n",
    "    layout=ipywidgets.Layout(width=\"70%\"),\n",
    ")\n",
    "\n",
    "ipywidgets.AppLayout(center=exp_select)"
   ]
  },
  {
   "cell_type": "markdown",
   "id": "4",
   "metadata": {},
   "source": [
    "## Experiment selection"
   ]
  },
  {
   "cell_type": "markdown",
   "id": "5",
   "metadata": {},
   "source": [
    "This section must be run before any of the following sections to load the selected experiments."
   ]
  },
  {
   "cell_type": "code",
   "execution_count": null,
   "id": "6",
   "metadata": {},
   "outputs": [],
   "source": [
    "exps_dir = exp_select.value\n",
    "assert len(exps_dir) > 0, \"must select at least one experiment\"\n",
    "\n",
    "print(\"Selected experiments:\")\n",
    "for exp_dir in exps_dir:\n",
    "    print(f\"  - {exp_dir.name}\")"
   ]
  },
  {
   "cell_type": "markdown",
   "id": "7",
   "metadata": {},
   "source": [
    "## Reward"
   ]
  },
  {
   "cell_type": "code",
   "execution_count": null,
   "id": "8",
   "metadata": {},
   "outputs": [],
   "source": [
    "# Common functions for average reward data.\n",
    "\n",
    "\n",
    "def _average_reward_step(iter, agent):\n",
    "    \"\"\"Returns the average reward per step for the given iteration and agent.\"\"\"\n",
    "    episodes = iter[\"env_runners\"][\"episodes_this_iter\"]\n",
    "\n",
    "    tmp = np.empty(episodes, dtype=np.float32)\n",
    "    for epi_idx in range(episodes):\n",
    "        tmp[epi_idx] = np.average(\n",
    "            iter[\"env_runners\"][\"hist_stats\"][\"reward\"][epi_idx][agent]\n",
    "        )\n",
    "\n",
    "    return np.average(tmp)\n",
    "\n",
    "\n",
    "def _get_data(exps_dir):\n",
    "    final_data = {}\n",
    "\n",
    "    for exp_dir in exps_dir:\n",
    "        data = {}\n",
    "        # Read data from experiment directory.\n",
    "        iters = dfaas_utils.parse_result_file(exp_dir / \"result.json\")\n",
    "        agents = base.get_env(exp_dir).agents\n",
    "\n",
    "        data[\"agents\"] = agents\n",
    "        data[\"iterations\"] = len(iters)\n",
    "        data[\"episodes\"] = iters[0][\"env_runners\"][\"episodes_this_iter\"]\n",
    "\n",
    "        reward_total_avg = {}  # Average total reward per episode.\n",
    "        reward_step_avg = {}  # Average reward per step.\n",
    "\n",
    "        reward_total_avg[\"all\"] = np.empty(data[\"iterations\"], dtype=np.float32)\n",
    "        for agent in data[\"agents\"]:\n",
    "            reward_total_avg[agent] = np.empty(data[\"iterations\"], dtype=np.float32)\n",
    "            reward_step_avg[agent] = np.empty(data[\"iterations\"], dtype=np.float32)\n",
    "\n",
    "        # For each iteration, get the average reward, since there are multiple\n",
    "        # episodes played in each iteration.\n",
    "        for iter in iters:\n",
    "            # Index starts from one in log files, but Python list from zero.\n",
    "            iter_idx = iter[\"training_iteration\"] - 1\n",
    "\n",
    "            reward_total_avg[\"all\"][iter_idx] = np.average(\n",
    "                iter[\"env_runners\"][\"hist_stats\"][\"episode_reward\"]\n",
    "            )\n",
    "\n",
    "            for agent in data[\"agents\"]:\n",
    "                reward_total_avg[agent][iter_idx] = np.average(\n",
    "                    iter[\"env_runners\"][\"hist_stats\"][f\"policy_policy_{agent}_reward\"]\n",
    "                )\n",
    "                reward_step_avg[agent][iter_idx] = _average_reward_step(iter, agent)\n",
    "\n",
    "        data[\"reward_total_avg\"] = reward_total_avg\n",
    "        data[\"reward_step_avg\"] = reward_step_avg\n",
    "\n",
    "        final_data[exp_dir] = data\n",
    "\n",
    "    return final_data"
   ]
  },
  {
   "cell_type": "markdown",
   "id": "9",
   "metadata": {},
   "source": [
    "Get `data` and `env` variables, used by subsequents plots."
   ]
  },
  {
   "cell_type": "code",
   "execution_count": null,
   "id": "10",
   "metadata": {},
   "outputs": [],
   "source": [
    "data = _get_data(exps_dir)\n",
    "env = base.get_env(exps_dir[0])"
   ]
  },
  {
   "cell_type": "markdown",
   "id": "11",
   "metadata": {},
   "source": [
    "### Average reward per episode (all agents)"
   ]
  },
  {
   "cell_type": "code",
   "execution_count": null,
   "id": "12",
   "metadata": {},
   "outputs": [],
   "source": [
    "fig = plt.figure(layout=\"constrained\")\n",
    "fig.canvas.header_visible = False\n",
    "ax = fig.subplots()\n",
    "\n",
    "# Limits for the y axis, both for total and single step.\n",
    "bottom, top = env.reward_range\n",
    "bottom_total = bottom * env.max_steps\n",
    "top_total = top * env.max_steps\n",
    "\n",
    "for exp_dir in exps_dir:\n",
    "    ax.plot(data[exp_dir][\"reward_total_avg\"][\"all\"], label=exp_dir.name)\n",
    "\n",
    "ax.set_ylim(bottom=bottom_total, top=top_total * len(env.agents))\n",
    "ax.set_title(\"Average reward per episode (all agents)\")\n",
    "ax.yaxis.set_major_locator(ticker.MultipleLocator(50))\n",
    "\n",
    "ax.set_ylabel(\"Reward per episode\")\n",
    "\n",
    "ax.set_xlabel(\"Iteration\")\n",
    "ax.xaxis.set_major_locator(\n",
    "    ticker.MultipleLocator(50)\n",
    ")  # Show x-axis ticks every 50 iterations.\n",
    "\n",
    "ax.legend(loc=\"lower center\")\n",
    "ax.grid(axis=\"both\")\n",
    "ax.set_axisbelow(True)  # By default the axis is over the content."
   ]
  },
  {
   "cell_type": "markdown",
   "id": "13",
   "metadata": {},
   "source": [
    "### Average reward per episode (single agents)"
   ]
  },
  {
   "cell_type": "code",
   "execution_count": null,
   "id": "14",
   "metadata": {
    "editable": true,
    "slideshow": {
     "slide_type": ""
    },
    "tags": []
   },
   "outputs": [],
   "source": [
    "# Limits for the y axis, both for total and single step.\n",
    "bottom, top = env.reward_range\n",
    "bottom_total = bottom * env.max_steps\n",
    "top_total = top * env.max_steps\n",
    "\n",
    "for agent in env.agents:\n",
    "    fig = plt.figure(layout=\"constrained\")\n",
    "    fig.canvas.header_visible = False\n",
    "    ax = fig.subplots()\n",
    "\n",
    "    for exp_dir in exps_dir:\n",
    "        ax.plot(data[exp_dir][\"reward_total_avg\"][agent], label=exp_dir.name)\n",
    "\n",
    "    ax.set_ylim(bottom=bottom_total, top=top_total)\n",
    "    ax.set_title(f\"Average reward per episode ({agent = })\")\n",
    "    ax.yaxis.set_major_locator(ticker.MultipleLocator(50))\n",
    "\n",
    "    ax.set_ylabel(\"Reward per episode\")\n",
    "\n",
    "    ax.set_xlabel(\"Iteration\")\n",
    "    ax.xaxis.set_major_locator(\n",
    "        ticker.MultipleLocator(50)\n",
    "    )  # Show x-axis ticks every 50 iterations.\n",
    "\n",
    "    ax.legend(loc=\"lower center\")\n",
    "    ax.grid(axis=\"both\")\n",
    "    ax.set_axisbelow(True)  # By default the axis is over the content."
   ]
  },
  {
   "cell_type": "markdown",
   "id": "15",
   "metadata": {},
   "source": [
    "## Processed requests"
   ]
  },
  {
   "cell_type": "code",
   "execution_count": null,
   "id": "16",
   "metadata": {},
   "outputs": [],
   "source": [
    "# Common functions for average reward data.\n",
    "\n",
    "\n",
    "def _processable_requests_episode(iters, iter_idx, epi_idx):\n",
    "    \"\"\"Returns the average reward per step for the given iteration and agent.\"\"\"\n",
    "    episodes = iter[\"env_runners\"][\"episodes_this_iter\"]\n",
    "\n",
    "    tmp = np.empty(episodes, dtype=np.float32)\n",
    "    for epi_idx in range(episodes):\n",
    "        tmp[epi_idx] = np.average(\n",
    "            iter[\"env_runners\"][\"hist_stats\"][\"reward\"][epi_idx][agent]\n",
    "        )\n",
    "\n",
    "    return np.average(tmp)\n",
    "\n",
    "\n",
    "def _get_data(exps_dir):\n",
    "    final_data = {}\n",
    "\n",
    "    for exp_dir in exps_dir:\n",
    "        data = {}\n",
    "\n",
    "        # Read data from experiment directory.\n",
    "        iters = dfaas_utils.parse_result_file(exp_dir / \"result.json\")\n",
    "        agents = base.get_env(exp_dir).agents\n",
    "\n",
    "        data[\"agents\"] = agents\n",
    "        data[\"iterations\"] = len(iters)\n",
    "        data[\"episodes\"] = iters[0][\"env_runners\"][\"episodes_this_iter\"]\n",
    "\n",
    "        final_data[exp_dir] = data\n",
    "\n",
    "    return final_data"
   ]
  },
  {
   "cell_type": "code",
   "execution_count": null,
   "id": "17",
   "metadata": {},
   "outputs": [],
   "source": [
    "# WIP TEST\n",
    "iters = dfaas_utils.parse_result_file(\n",
    "    \"/home/emanuele/marl-dfaas/results/DFAAS-MA_2025-01-17_18-02-33_SYNT_NEW_MODEL/result.json\"\n",
    ")\n",
    "\n",
    "_get_processable_requests_episode(iters, 0, 0)"
   ]
  },
  {
   "cell_type": "markdown",
   "id": "18",
   "metadata": {},
   "source": [
    "Get `data` and `env` variables, used by subsequents plots."
   ]
  },
  {
   "cell_type": "code",
   "execution_count": null,
   "id": "19",
   "metadata": {},
   "outputs": [],
   "source": [
    "data = _get_data(exps_dir)\n",
    "env = base.get_env(exps_dir[0])"
   ]
  },
  {
   "cell_type": "markdown",
   "id": "20",
   "metadata": {},
   "source": [
    "### Average processed requests per episode (all agents)"
   ]
  }
 ],
 "metadata": {
  "kernelspec": {
   "display_name": "Python 3 (ipykernel)",
   "language": "python",
   "name": "python3"
  },
  "language_info": {
   "codemirror_mode": {
    "name": "ipython",
    "version": 3
   },
   "file_extension": ".py",
   "mimetype": "text/x-python",
   "name": "python",
   "nbconvert_exporter": "python",
   "pygments_lexer": "ipython3",
   "version": "3.12.3"
  }
 },
 "nbformat": 4,
 "nbformat_minor": 5
}
