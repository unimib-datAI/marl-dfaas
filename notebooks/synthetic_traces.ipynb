{
 "cells": [
  {
   "cell_type": "markdown",
   "id": "0",
   "metadata": {},
   "source": [
    "# Synthetic Traces Plotting/Analysis"
   ]
  },
  {
   "cell_type": "markdown",
   "id": "1",
   "metadata": {},
   "source": [
    "This notebook explores the input rate generation methods implemented in the `dfaas_input_rate` module. The generation is done in traces, one for each agent, at the beginning of the episode for all steps. There are two main types of traces:\n",
    "\n",
    "* Traces generated from real data: **not covered** in this notebook.\n",
    "* Traces generated from synthetic data: **covered** in this notebook.\n",
    "\n",
    "Some constraints (or assumptions):\n",
    "\n",
    "1. Each episode has a fixed length of 288 steps (each step represents 5 minutes in a 24-hour period).\n",
    "2. For each step and agent, the input rate takes positive values in a fixed range (1, 150)."
   ]
  },
  {
   "cell_type": "code",
   "execution_count": null,
   "id": "2",
   "metadata": {},
   "outputs": [],
   "source": [
    "# Common imports.\n",
    "from pathlib import Path\n",
    "\n",
    "%matplotlib widget\n",
    "import base\n",
    "\n",
    "import dfaas_input_rate\n",
    "\n",
    "import numpy as np\n",
    "import pandas as pd\n",
    "import matplotlib.pyplot as plt\n",
    "import matplotlib.ticker as ticker\n",
    "import ipywidgets"
   ]
  },
  {
   "cell_type": "markdown",
   "id": "3",
   "metadata": {},
   "source": [
    "## Sinusoidal traces"
   ]
  },
  {
   "cell_type": "markdown",
   "id": "4",
   "metadata": {},
   "source": [
    "### Plot of a single trace"
   ]
  },
  {
   "cell_type": "code",
   "execution_count": null,
   "id": "5",
   "metadata": {},
   "outputs": [],
   "source": [
    "rng = np.random.default_rng(seed=42)"
   ]
  },
  {
   "cell_type": "code",
   "execution_count": null,
   "id": "6",
   "metadata": {},
   "outputs": [],
   "source": [
    "def plot_single_trace(rng):\n",
    "    trace = dfaas_input_rate._gen_synthetic_sinusoidal(rng)\n",
    "\n",
    "    plt.close(fig=\"single_trace_fixed_args\")\n",
    "    fig, axes = plt.subplots(2, 1, num=\"single_trace_fixed_args\", layout=\"constrained\", figsize=(8, 10))\n",
    "    fig.canvas.header_visible = False\n",
    "\n",
    "    ax = axes[0]  # First plot: arrival rate.\n",
    "    ax.plot(trace)\n",
    "\n",
    "    ax.set_title(f\"Arrival rate\")\n",
    "    ax.set_ylabel(\"Function invocations\")\n",
    "    ax.yaxis.set_major_locator(ticker.MaxNLocator(integer=True))\n",
    "    ax.set_ylim(bottom=0, top=150 + 5)\n",
    "    ax.set_xlabel(\"Step\")\n",
    "    ax.xaxis.set_major_locator(ticker.MaxNLocator(integer=True))\n",
    "\n",
    "    ax.grid(axis=\"both\")\n",
    "    ax.set_axisbelow(True)\n",
    "\n",
    "    ax = axes[1]  # Second plot: arrival rate distribution.\n",
    "    bins = np.arange(1, 150 + 1)  # Since the range is [1, 150].\n",
    "    ax.hist(trace, bins=bins, color=\"tab:blue\", edgecolor=\"black\")\n",
    "    ax.set_title(\"Distribution of Invocations\")\n",
    "    ax.set_xlabel(\"Function invocations\")\n",
    "    ax.set_ylabel(\"Frequency\")\n",
    "    ax.xaxis.set_major_locator(ticker.MaxNLocator(integer=True))\n",
    "    ax.yaxis.set_major_locator(ticker.MaxNLocator(integer=True))\n",
    "    ax.grid(axis=\"y\")\n",
    "\n",
    "    return fig\n",
    "\n",
    "\n",
    "fig = plot_single_trace(rng)"
   ]
  },
  {
   "cell_type": "markdown",
   "id": "7",
   "metadata": {},
   "source": [
    "### Compare multiple traces"
   ]
  },
  {
   "cell_type": "markdown",
   "id": "8",
   "metadata": {},
   "source": [
    "**WARNING**: This section does not currently work!"
   ]
  },
  {
   "cell_type": "code",
   "execution_count": null,
   "id": "9",
   "metadata": {},
   "outputs": [],
   "source": [
    "def make_traces(n_traces):\n",
    "    assert n_traces > 0\n",
    "\n",
    "    rng = np.random.default_rng(seed=42)\n",
    "\n",
    "    # Fixed values for all traces.\n",
    "    agents = [\"node_0\"]\n",
    "    max_steps, min_reqs, max_reqs = 288, 0, 150\n",
    "    limits = {\"node_0\": {\"min\": min_reqs, \"max\": max_reqs}}\n",
    "\n",
    "    # Generate a specific seed for this trace.\n",
    "    iinfo = np.iinfo(np.uint32)\n",
    "    seed = rng.integers(0, high=iinfo.max, size=1)[0].item()\n",
    "    specific_rng = np.random.default_rng(seed=seed)\n",
    "\n",
    "    traces = []\n",
    "    for i in range(n_traces):\n",
    "        trace = dfaas_input_rate._gen_synthetic_sinusoidal(specific_rng)\n",
    "        traces.append(trace)\n",
    "    return traces\n",
    "\n",
    "\n",
    "n_traces = 10\n",
    "traces = make_traces(n_traces)"
   ]
  },
  {
   "cell_type": "markdown",
   "id": "10",
   "metadata": {},
   "source": [
    "#### Dynamic Time Warping (DTW)"
   ]
  },
  {
   "cell_type": "markdown",
   "id": "11",
   "metadata": {},
   "source": [
    "See: https://dynamictimewarping.github.io/python/"
   ]
  },
  {
   "cell_type": "code",
   "execution_count": null,
   "id": "12",
   "metadata": {},
   "outputs": [],
   "source": [
    "from dtw import dtw"
   ]
  },
  {
   "cell_type": "code",
   "execution_count": null,
   "id": "13",
   "metadata": {},
   "outputs": [],
   "source": [
    "def compute_dtw(traces):\n",
    "    res_dtw, res_dtw_norm = [], []\n",
    "\n",
    "    for x_index in range(len(traces)):\n",
    "        x_dtw, x_dtw_norm = [], []\n",
    "        for y_index in range(len(traces)):\n",
    "            if x_index == y_index:\n",
    "                continue\n",
    "\n",
    "            x = traces[x_index]\n",
    "            y = traces[y_index]\n",
    "            dtw_xy = dtw(x, y)\n",
    "\n",
    "            x_dtw.append(dtw_xy.distance)\n",
    "            x_dtw_norm.append(dtw_xy.normalizedDistance)\n",
    "\n",
    "        res_dtw.append(np.mean(x_dtw))\n",
    "        res_dtw_norm.append(np.mean(x_dtw_norm))\n",
    "\n",
    "    return np.mean(res_dtw), np.mean(res_dtw_norm)\n",
    "\n",
    "\n",
    "dtw_distance, dtw_distance_norm = compute_dtw(traces)\n",
    "dtw_distance_next, dtw_distance_next_norm = compute_dtw(traces_next)\n",
    "\n",
    "print(\"Current traces:\")\n",
    "print(\"  Dynamic Time Warping distance (average on all traces) =\", dtw_distance)\n",
    "print(\"  Dynamic Time Warping normalized (average on all traces) =\", dtw_distance_norm)\n",
    "print()\n",
    "print(\"Next traces:\")\n",
    "print(\"  Dynamic Time Warping distance (average on all traces) =\", dtw_distance_next)\n",
    "print(\"  Dynamic Time Warping normalized (average on all traces) =\", dtw_distance_next_norm)"
   ]
  },
  {
   "cell_type": "code",
   "execution_count": null,
   "id": "14",
   "metadata": {},
   "outputs": [],
   "source": [
    "def dtwPlotTwoWay(\n",
    "    d,\n",
    "    fig,\n",
    "    xts=None,\n",
    "    yts=None,\n",
    "    offset=0,\n",
    "    ts_type=\"l\",\n",
    "    match_indices=None,\n",
    "    match_col=\"gray\",\n",
    "    xlab=\"Step\",\n",
    "    ylab=\"Invocations\",\n",
    "    **kwargs,\n",
    "):\n",
    "    \"\"\"Customized version of dtwPlotTwoWay function for this notebook.\n",
    "\n",
    "    Original code: https://github.com/DynamicTimeWarping/dtw-python/blob/master/dtw/dtwPlot.py\n",
    "    \"\"\"\n",
    "    import matplotlib.pyplot as plt\n",
    "    from matplotlib import collections as mc\n",
    "\n",
    "    if xts is None or yts is None:\n",
    "        try:\n",
    "            xts = d.query\n",
    "            yts = d.reference\n",
    "        except:\n",
    "            raise ValueError(\"Original timeseries are required\")\n",
    "\n",
    "    # ytso = yts + offset\n",
    "    offset = -offset\n",
    "\n",
    "    xtimes = np.arange(len(xts))\n",
    "    ytimes = np.arange(len(yts))\n",
    "\n",
    "    ax = fig.subplots()\n",
    "\n",
    "    ax.set_xlabel(xlab)\n",
    "    ax.set_ylabel(ylab)\n",
    "\n",
    "    ax.plot(xtimes, np.array(xts), color=\"k\", label=\"X\", **kwargs)\n",
    "    ax.plot(ytimes, np.array(yts) - offset, label=\"Y\", **kwargs)  # Plot with offset applied\n",
    "    fig.legend()\n",
    "\n",
    "    if offset != 0:\n",
    "        # Create an offset axis\n",
    "        ax2 = ax.twinx()\n",
    "        ax2.tick_params(\"y\", colors=\"b\")\n",
    "        ql, qh = ax.get_ylim()\n",
    "        ax2.set_ylim(ql + offset, qh + offset)\n",
    "\n",
    "    # https://stackoverflow.com/questions/21352580/matplotlib-plotting-numerous-disconnected-line-segments-with-different-colors\n",
    "    if match_indices is None:\n",
    "        idx = np.linspace(0, len(d.index1) - 1)\n",
    "    elif not hasattr(match_indices, \"__len__\"):\n",
    "        idx = np.linspace(0, len(d.index1) - 1, num=match_indices)\n",
    "    else:\n",
    "        idx = match_indices\n",
    "    idx = np.array(idx).astype(int)\n",
    "\n",
    "    col = []\n",
    "    for i in idx:\n",
    "        col.append([(d.index1[i], xts[d.index1[i]]), (d.index2[i], -offset + yts[d.index2[i]])])\n",
    "\n",
    "    lc = mc.LineCollection(col, linewidths=1, linestyles=\":\", colors=match_col)\n",
    "    ax.add_collection(lc)\n",
    "\n",
    "    return ax\n",
    "\n",
    "\n",
    "def make_dtw_plot(traces):\n",
    "    n = len(traces)\n",
    "\n",
    "    x_index = ipywidgets.BoundedIntText(\n",
    "        value=0,\n",
    "        min=0,\n",
    "        max=len(traces),\n",
    "        description=f\"X trace [0, {n-1}]:\",\n",
    "        style={\"description_width\": \"initial\"},\n",
    "        layout=ipywidgets.Layout(width=\"500px\"),\n",
    "    )\n",
    "    y_index = ipywidgets.BoundedIntText(\n",
    "        value=1,\n",
    "        min=0,\n",
    "        max=len(traces),\n",
    "        description=f\"Y trace [0, {n-1}]:\",\n",
    "        style={\"description_width\": \"initial\"},\n",
    "        layout=ipywidgets.Layout(width=\"500px\"),\n",
    "    )\n",
    "\n",
    "    with plt.ioff():\n",
    "        plt.close(fig=\"make_dtw_plot\")\n",
    "        fig = plt.figure(num=\"make_dtw_plot\", layout=\"constrained\")\n",
    "    fig.canvas.header_visible = False\n",
    "\n",
    "    out = ipywidgets.Output()\n",
    "\n",
    "    def make_plot():\n",
    "        x = traces[x_index.value]\n",
    "        y = traces[y_index.value]\n",
    "\n",
    "        dtw_xy = dtw(x, y, keep_internals=True)\n",
    "\n",
    "        with out:\n",
    "            out.clear_output()\n",
    "            print(f\"Distance: {dtw_xy.distance:.3f}\")\n",
    "            print(f\"Distance normalized: {dtw_xy.normalizedDistance:.3f}\")\n",
    "\n",
    "        # Make the plot.\n",
    "        fig.clear()\n",
    "\n",
    "        dtwPlotTwoWay(dtw_xy, fig)\n",
    "\n",
    "        fig.canvas.draw_idle()\n",
    "        fig.canvas.draw_idle()\n",
    "\n",
    "    # Make the initial plot with the default values.\n",
    "    make_plot()\n",
    "\n",
    "    # Link the input widgets to the plotting function.\n",
    "    x_index.observe(lambda change: make_plot(), names=\"value\")\n",
    "    y_index.observe(lambda change: make_plot(), names=\"value\")\n",
    "\n",
    "    inputs = ipywidgets.VBox([x_index, y_index])\n",
    "\n",
    "    return ipywidgets.AppLayout(\n",
    "        header=ipywidgets.VBox([inputs, out]),\n",
    "        center=fig.canvas,\n",
    "        pane_heights=[0.9, 5, 0],\n",
    "    )\n",
    "\n",
    "\n",
    "make_dtw_plot(traces)"
   ]
  },
  {
   "cell_type": "markdown",
   "id": "15",
   "metadata": {},
   "source": [
    "#### Mean Absolute Error (MAE)"
   ]
  },
  {
   "cell_type": "code",
   "execution_count": null,
   "id": "16",
   "metadata": {},
   "outputs": [],
   "source": [
    "def compute_single_mae(x, y):\n",
    "    assert len(x) == len(y)\n",
    "    n = len(x)\n",
    "\n",
    "    return (1 / n) * np.sum(np.abs(x - y))\n",
    "\n",
    "\n",
    "def compute_mae(traces):\n",
    "    mae = []\n",
    "\n",
    "    for x_index in range(len(traces)):\n",
    "        x_mae = []\n",
    "        for y_index in range(len(traces)):\n",
    "            if x_index == y_index:\n",
    "                continue\n",
    "\n",
    "            x = traces[x_index]\n",
    "            y = traces[y_index]\n",
    "            mae_xy = compute_single_mae(x, y)\n",
    "\n",
    "            x_mae.append(mae_xy)\n",
    "\n",
    "        mae.append(np.mean(x_mae))\n",
    "\n",
    "    return np.mean(mae)\n",
    "\n",
    "\n",
    "mae = compute_mae(traces)\n",
    "\n",
    "print(f\"Mean Absolute Error (average on all traces) = {mae:.3f}\")"
   ]
  },
  {
   "cell_type": "markdown",
   "id": "17",
   "metadata": {},
   "source": [
    "#### Mean Squared Error (MSE)"
   ]
  },
  {
   "cell_type": "code",
   "execution_count": null,
   "id": "18",
   "metadata": {},
   "outputs": [],
   "source": [
    "def compute_single_mse(x, y):\n",
    "    assert len(x) == len(y)\n",
    "    n = len(x)\n",
    "\n",
    "    return (1 / n) * np.sum(np.square(x - y))\n",
    "\n",
    "\n",
    "def compute_mse(traces):\n",
    "    mse = []\n",
    "\n",
    "    for x_index in range(len(traces)):\n",
    "        x_mse = []\n",
    "        for y_index in range(len(traces)):\n",
    "            if x_index == y_index:\n",
    "                continue\n",
    "\n",
    "            x = traces[x_index]\n",
    "            y = traces[y_index]\n",
    "            mse_xy = compute_single_mse(x, y)\n",
    "\n",
    "            x_mse.append(mse_xy)\n",
    "\n",
    "        mse.append(np.mean(x_mse))\n",
    "\n",
    "    return np.mean(mse)\n",
    "\n",
    "\n",
    "mse = compute_mse(traces)\n",
    "\n",
    "print(f\"Mean Square Error (average on all traces) = {mse:.3f}\")"
   ]
  },
  {
   "cell_type": "markdown",
   "id": "19",
   "metadata": {},
   "source": [
    "#### Root Mean Squared Error (RMSE)"
   ]
  },
  {
   "cell_type": "code",
   "execution_count": null,
   "id": "20",
   "metadata": {},
   "outputs": [],
   "source": [
    "def compute_single_rmse(x, y):\n",
    "    mse = compute_single_mse(x, y)\n",
    "    return np.sqrt(mse)\n",
    "\n",
    "\n",
    "def compute_rmse(traces):\n",
    "    mse = compute_mse(traces)\n",
    "    return np.sqrt(mse)\n",
    "\n",
    "\n",
    "rmse = compute_rmse(traces)\n",
    "\n",
    "print(f\"Root Mean Square Error (average on all traces) = {rmse:.3f}\")"
   ]
  },
  {
   "cell_type": "markdown",
   "id": "21",
   "metadata": {},
   "source": [
    "#### Summary"
   ]
  },
  {
   "cell_type": "code",
   "execution_count": null,
   "id": "22",
   "metadata": {},
   "outputs": [],
   "source": [
    "def make_basic_statistical_measures_app(traces):\n",
    "    n = len(traces)\n",
    "\n",
    "    x_index = ipywidgets.BoundedIntText(\n",
    "        value=0,\n",
    "        min=0,\n",
    "        max=len(traces),\n",
    "        description=f\"X trace [0, {n-1}]:\",\n",
    "        style={\"description_width\": \"initial\"},\n",
    "        layout=ipywidgets.Layout(width=\"500px\"),\n",
    "    )\n",
    "    y_index = ipywidgets.BoundedIntText(\n",
    "        value=1,\n",
    "        min=0,\n",
    "        max=len(traces),\n",
    "        description=f\"Y trace [0, {n-1}]:\",\n",
    "        style={\"description_width\": \"initial\"},\n",
    "        layout=ipywidgets.Layout(width=\"500px\"),\n",
    "    )\n",
    "\n",
    "    out = ipywidgets.Output()\n",
    "\n",
    "    def make_widget():\n",
    "        x = traces[x_index.value]\n",
    "        y = traces[y_index.value]\n",
    "\n",
    "        mae = compute_single_mae(x, y)\n",
    "        mse = compute_single_mse(x, y)\n",
    "        rmse = compute_single_rmse(x, y)\n",
    "\n",
    "        with out:\n",
    "            out.clear_output()\n",
    "            print(f\"Mean Absolute Error: {mae:.3f}\")\n",
    "            print(f\"Mean Square Error: {mse:.3f}\")\n",
    "            print(f\"Root Mean Square Error: {rmse:.3f}\")\n",
    "\n",
    "    # Make the initial plot with the default values.\n",
    "    make_widget()\n",
    "\n",
    "    # Link the input widgets to the plotting function.\n",
    "    x_index.observe(lambda change: make_widget(), names=\"value\")\n",
    "    y_index.observe(lambda change: make_widget(), names=\"value\")\n",
    "\n",
    "    inputs = ipywidgets.VBox([x_index, y_index])\n",
    "\n",
    "    return ipywidgets.AppLayout(header=inputs, center=out)\n",
    "\n",
    "\n",
    "make_basic_statistical_measures_app(traces)"
   ]
  },
  {
   "cell_type": "markdown",
   "id": "23",
   "metadata": {},
   "source": [
    "## Other traces"
   ]
  },
  {
   "cell_type": "code",
   "execution_count": null,
   "id": "24",
   "metadata": {},
   "outputs": [],
   "source": [
    "def make_trace_plot(trace, plot_name=\"default\"):\n",
    "    for agent, trace in sorted(trace.items()):\n",
    "        plt.close(fig=f\"{plot_name}_trace_{agent}\")\n",
    "        fig = plt.figure(num=f\"{plot_name}_trace_{agent}\", layout=\"constrained\")\n",
    "        fig.canvas.header_visible = False\n",
    "        ax = fig.subplots()\n",
    "\n",
    "        ax.plot(trace)\n",
    "\n",
    "        ax.set_title(f\"Function arrival rate (λ) ({agent = })\")\n",
    "        ax.set_ylabel(\"Rate\")\n",
    "        ax.yaxis.set_major_locator(ticker.MaxNLocator(integer=True))\n",
    "        ax.set_xlabel(\"Step\")\n",
    "\n",
    "        ax.grid(axis=\"both\")\n",
    "        ax.set_axisbelow(True)  # By default the axis is over the content."
   ]
  },
  {
   "cell_type": "markdown",
   "id": "25",
   "metadata": {},
   "source": [
    "### Constant trace"
   ]
  },
  {
   "cell_type": "code",
   "execution_count": null,
   "id": "26",
   "metadata": {},
   "outputs": [],
   "source": [
    "def make_constant_trace():\n",
    "    agents = [\"node_0\", \"node_1\"]\n",
    "    max_steps = 288\n",
    "\n",
    "    return dfaas_input_rate.synthetic_constant(max_steps, agents)\n",
    "\n",
    "\n",
    "trace = make_constant_trace()"
   ]
  },
  {
   "cell_type": "code",
   "execution_count": null,
   "id": "27",
   "metadata": {},
   "outputs": [],
   "source": [
    "make_trace_plot(trace, \"constant\")"
   ]
  },
  {
   "cell_type": "markdown",
   "id": "28",
   "metadata": {},
   "source": [
    "### Linear growth trace"
   ]
  },
  {
   "cell_type": "code",
   "execution_count": null,
   "id": "29",
   "metadata": {},
   "outputs": [],
   "source": [
    "def make_linear_growth_trace():\n",
    "    agents = [\"node_0\", \"node_1\"]\n",
    "    max_steps = 288\n",
    "\n",
    "    return dfaas_input_rate.synthetic_linear_growth(max_steps, agents)\n",
    "\n",
    "\n",
    "trace = make_linear_growth_trace()"
   ]
  },
  {
   "cell_type": "code",
   "execution_count": null,
   "id": "30",
   "metadata": {},
   "outputs": [],
   "source": [
    "make_trace_plot(trace, \"linear-growth\")"
   ]
  },
  {
   "cell_type": "markdown",
   "id": "31",
   "metadata": {},
   "source": [
    "### Step-change trace"
   ]
  },
  {
   "cell_type": "code",
   "execution_count": null,
   "id": "32",
   "metadata": {},
   "outputs": [],
   "source": [
    "def make_step_change_trace():\n",
    "    agents = [\"node_0\", \"node_1\"]\n",
    "    max_steps = 288\n",
    "\n",
    "    return dfaas_input_rate.synthetic_step_change(max_steps, agents)\n",
    "\n",
    "\n",
    "trace = make_step_change_trace()"
   ]
  },
  {
   "cell_type": "code",
   "execution_count": null,
   "id": "33",
   "metadata": {},
   "outputs": [],
   "source": [
    "make_trace_plot(trace, \"step-change\")"
   ]
  },
  {
   "cell_type": "markdown",
   "id": "34",
   "metadata": {},
   "source": [
    "### Double linear growth trace"
   ]
  },
  {
   "cell_type": "code",
   "execution_count": null,
   "id": "35",
   "metadata": {},
   "outputs": [],
   "source": [
    "def make_double_linear_growth_trace():\n",
    "    agents = [\"node_0\", \"node_1\"]\n",
    "    max_steps = 288\n",
    "\n",
    "    return dfaas_input_rate.synthetic_double_linear_growth(max_steps, agents)\n",
    "\n",
    "\n",
    "trace = make_double_linear_growth_trace()"
   ]
  },
  {
   "cell_type": "code",
   "execution_count": null,
   "id": "36",
   "metadata": {},
   "outputs": [],
   "source": [
    "make_trace_plot(trace, \"double-linear-growth\")"
   ]
  }
 ],
 "metadata": {
  "kernelspec": {
   "display_name": "Python 3 (ipykernel)",
   "language": "python",
   "name": "python3"
  },
  "language_info": {
   "codemirror_mode": {
    "name": "ipython",
    "version": 3
   },
   "file_extension": ".py",
   "mimetype": "text/x-python",
   "name": "python",
   "nbconvert_exporter": "python",
   "pygments_lexer": "ipython3",
   "version": "3.12.3"
  }
 },
 "nbformat": 4,
 "nbformat_minor": 5
}
