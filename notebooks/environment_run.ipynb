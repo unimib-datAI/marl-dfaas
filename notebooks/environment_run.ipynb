{
 "cells": [
  {
   "cell_type": "markdown",
   "id": "0",
   "metadata": {},
   "source": [
    "# Environment run"
   ]
  },
  {
   "cell_type": "markdown",
   "id": "1",
   "metadata": {},
   "source": [
    "This notebook creates a DFaaS environment and runs an episode with dummy actions. Used to test and debug the environment."
   ]
  },
  {
   "cell_type": "code",
   "execution_count": null,
   "id": "2",
   "metadata": {},
   "outputs": [],
   "source": [
    "# Common imports.\n",
    "%matplotlib inline\n",
    "import base\n",
    "from pprint import pprint\n",
    "\n",
    "import matplotlib.pyplot as plt\n",
    "import networkx as nx\n",
    "from tqdm.notebook import trange\n",
    "\n",
    "import dfaas_env"
   ]
  },
  {
   "cell_type": "markdown",
   "id": "3",
   "metadata": {},
   "source": [
    "## Create environment"
   ]
  },
  {
   "cell_type": "code",
   "execution_count": null,
   "id": "4",
   "metadata": {},
   "outputs": [],
   "source": [
    "config = {\"network\": [\"node_0 node_1\", \"node_1\"]}\n",
    "\n",
    "env = dfaas_env.DFaaS(config=config)\n",
    "\n",
    "_ = env.reset(seed=42)"
   ]
  },
  {
   "cell_type": "markdown",
   "id": "5",
   "metadata": {},
   "source": [
    "## Show network graph"
   ]
  },
  {
   "cell_type": "code",
   "execution_count": null,
   "id": "6",
   "metadata": {},
   "outputs": [],
   "source": [
    "def show_plot(env):\n",
    "    # Set margins for the axes so that nodes aren't clipped\n",
    "    fig = plt.figure()\n",
    "    ax = fig.subplots()\n",
    "\n",
    "    ax.axis(\"off\")\n",
    "\n",
    "    options = {\n",
    "        \"ax\": ax,\n",
    "        \"node_size\": 2500,  # Write the label inside the node!\n",
    "        \"node_color\": \"white\",\n",
    "        \"edgecolors\": \"black\",\n",
    "    }\n",
    "\n",
    "    nx.draw_networkx(env.network, **options)\n",
    "\n",
    "\n",
    "show_plot(env)"
   ]
  },
  {
   "cell_type": "markdown",
   "id": "7",
   "metadata": {},
   "source": [
    "## Run episode"
   ]
  },
  {
   "cell_type": "code",
   "execution_count": null,
   "id": "8",
   "metadata": {},
   "outputs": [],
   "source": [
    "_ = env.reset()\n",
    "\n",
    "for step in trange(env.max_steps):\n",
    "    env.step(action_dict=env.action_space.sample())"
   ]
  },
  {
   "cell_type": "code",
   "execution_count": null,
   "id": "9",
   "metadata": {},
   "outputs": [],
   "source": [
    "print(\"Keys in info dictionary:\")\n",
    "for key in env.info:\n",
    "    print(f\"  {key}\")"
   ]
  },
  {
   "cell_type": "code",
   "execution_count": null,
   "id": "10",
   "metadata": {},
   "outputs": [],
   "source": [
    "for key in env.info:\n",
    "    print()\n",
    "    data = env.info[key]\n",
    "    print(f\"{key}\")\n",
    "    for agent in env.agents:\n",
    "        print(f\"  {agent} {data[agent][:5]}\")"
   ]
  },
  {
   "cell_type": "code",
   "execution_count": null,
   "id": "11",
   "metadata": {},
   "outputs": [],
   "source": [
    "import pandas as pd\n",
    "\n",
    "node_id = \"node_0\"\n",
    "max_steps = 10\n",
    "\n",
    "print(f\"Node: {node_id}\")\n",
    "\n",
    "dataframe = pd.DataFrame(\n",
    "    {\n",
    "        \"Incoming\": pd.Series(env.info[\"incoming_rate\"][node_id][:max_steps]),\n",
    "        \"Rejection rate\": pd.Series(env.info[\"incoming_rate_reject\"][node_id][:max_steps]),\n",
    "        \"Incoming local\": pd.Series(env.info[\"incoming_rate_local\"][node_id][:max_steps]),\n",
    "        \"Incoming forward\": pd.Series(env.info[\"incoming_rate_forward\"][node_id][:max_steps]),\n",
    "        \"Incoming local reject\": pd.Series(env.info[\"incoming_rate_local_reject\"][node_id][:max_steps]),\n",
    "        \"Incoming forward rejects\": pd.Series(env.info[\"incoming_rate_forward_reject\"][node_id][:max_steps]),\n",
    "    }\n",
    ")\n",
    "\n",
    "display(dataframe)"
   ]
  }
 ],
 "metadata": {
  "kernelspec": {
   "display_name": "Python 3 (ipykernel)",
   "language": "python",
   "name": "python3"
  },
  "language_info": {
   "codemirror_mode": {
    "name": "ipython",
    "version": 3
   },
   "file_extension": ".py",
   "mimetype": "text/x-python",
   "name": "python",
   "nbconvert_exporter": "python",
   "pygments_lexer": "ipython3",
   "version": "3.12.3"
  }
 },
 "nbformat": 4,
 "nbformat_minor": 5
}
